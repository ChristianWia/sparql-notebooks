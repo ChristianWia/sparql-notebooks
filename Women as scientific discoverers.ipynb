{
 "cells": [
  {
   "cell_type": "code",
   "execution_count": 12,
   "id": "045014ba-fa08-43cf-860c-2a57fb50a8bd",
   "metadata": {},
   "outputs": [
    {
     "data": {
      "text/html": [
       "<div class=\"krn-spql\"><div class=\"magic\">Endpoint set to: https://query.wikidata.org/bigdata/namespace/wdq/sparql</div><div class=\"magic\">Request format: ANY</div><div class=\"magic\">Display: table</div></div>"
      ],
      "text/plain": [
       "Endpoint set to: https://query.wikidata.org/bigdata/namespace/wdq/sparql\n",
       "Request format: ANY\n",
       "Display: table\n"
      ]
     },
     "metadata": {},
     "output_type": "display_data"
    }
   ],
   "source": [
    "%endpoint https://query.wikidata.org/bigdata/namespace/wdq/sparql\n",
    "%format any\n",
    "%display table\n",
    "# The \"magics\" don't have to be in a separate cell from the actual query. "
   ]
  },
  {
   "cell_type": "markdown",
   "id": "99997d51-7834-43a9-97bf-4611752c2f3d",
   "metadata": {},
   "source": [
    "Women as discoverers\n",
    "\n",
    "This notebook explores women who have discovered theorems or algorithms according to wikidata.\n"
   ]
  },
  {
   "cell_type": "code",
   "execution_count": 13,
   "id": "a3392ab6-5f22-4652-b8b9-898f9f1b5877",
   "metadata": {},
   "outputs": [
    {
     "data": {
      "text/html": [
       "<div class=\"krn-spql\"><table><tr class=hdr><th>theorem</th>\n",
       "<th>theoremLabel</th>\n",
       "<th>discoverer</th>\n",
       "<th>discovererLabel</th>\n",
       "<th>genderLabel</th></tr><tr class=odd><td class=val><a href=\"http://www.wikidata.org/entity/Q637418\" target=\"_other\">http://www.wikidata.org/entity/Q637418</a></td>\n",
       "<td class=val>Napoleon's theorem</td>\n",
       "<td class=val><a href=\"http://www.wikidata.org/entity/Q517\" target=\"_other\">http://www.wikidata.org/entity/Q517</a></td>\n",
       "<td class=val>Napoleon</td>\n",
       "<td class=val>male</td></tr><tr class=even><td class=val><a href=\"http://www.wikidata.org/entity/Q578555\" target=\"_other\">http://www.wikidata.org/entity/Q578555</a></td>\n",
       "<td class=val>Noether's theorem</td>\n",
       "<td class=val><a href=\"http://www.wikidata.org/entity/Q7099\" target=\"_other\">http://www.wikidata.org/entity/Q7099</a></td>\n",
       "<td class=val>Emmy Noether</td>\n",
       "<td class=val>female</td></tr><tr class=odd><td class=val><a href=\"http://www.wikidata.org/entity/Q587081\" target=\"_other\">http://www.wikidata.org/entity/Q587081</a></td>\n",
       "<td class=val>Kolmogorov–Arnold–Moser theorem</td>\n",
       "<td class=val><a href=\"http://www.wikidata.org/entity/Q153224\" target=\"_other\">http://www.wikidata.org/entity/Q153224</a></td>\n",
       "<td class=val>Andrey Kolmogorov</td>\n",
       "<td class=val>male</td></tr><tr class=even><td class=val><a href=\"http://www.wikidata.org/entity/Q587081\" target=\"_other\">http://www.wikidata.org/entity/Q587081</a></td>\n",
       "<td class=val>Kolmogorov–Arnold–Moser theorem</td>\n",
       "<td class=val><a href=\"http://www.wikidata.org/entity/Q157642\" target=\"_other\">http://www.wikidata.org/entity/Q157642</a></td>\n",
       "<td class=val>Vladimir Arnold</td>\n",
       "<td class=val>male</td></tr><tr class=odd><td class=val><a href=\"http://www.wikidata.org/entity/Q470877\" target=\"_other\">http://www.wikidata.org/entity/Q470877</a></td>\n",
       "<td class=val>Stirling's approximation</td>\n",
       "<td class=val><a href=\"http://www.wikidata.org/entity/Q200397\" target=\"_other\">http://www.wikidata.org/entity/Q200397</a></td>\n",
       "<td class=val>Abraham de Moivre</td>\n",
       "<td class=val>male</td></tr><tr class=even><td class=val><a href=\"http://www.wikidata.org/entity/Q914099\" target=\"_other\">http://www.wikidata.org/entity/Q914099</a></td>\n",
       "<td class=val>alternating series test</td>\n",
       "<td class=val><a href=\"http://www.wikidata.org/entity/Q9047\" target=\"_other\">http://www.wikidata.org/entity/Q9047</a></td>\n",
       "<td class=val>Gottfried Wilhelm Leibniz</td>\n",
       "<td class=val>male</td></tr><tr class=odd><td class=val><a href=\"http://www.wikidata.org/entity/Q899853\" target=\"_other\">http://www.wikidata.org/entity/Q899853</a></td>\n",
       "<td class=val>H-theorem</td>\n",
       "<td class=val><a href=\"http://www.wikidata.org/entity/Q84296\" target=\"_other\">http://www.wikidata.org/entity/Q84296</a></td>\n",
       "<td class=val>Ludwig Boltzmann</td>\n",
       "<td class=val>male</td></tr><tr class=even><td class=val><a href=\"http://www.wikidata.org/entity/Q1050037\" target=\"_other\">http://www.wikidata.org/entity/Q1050037</a></td>\n",
       "<td class=val>Coase theorem</td>\n",
       "<td class=val><a href=\"http://www.wikidata.org/entity/Q188113\" target=\"_other\">http://www.wikidata.org/entity/Q188113</a></td>\n",
       "<td class=val>Ronald Coase</td>\n",
       "<td class=val>male</td></tr><tr class=odd><td class=val><a href=\"http://www.wikidata.org/entity/Q1035674\" target=\"_other\">http://www.wikidata.org/entity/Q1035674</a></td>\n",
       "<td class=val>Tusi couple</td>\n",
       "<td class=val><a href=\"http://www.wikidata.org/entity/Q302835\" target=\"_other\">http://www.wikidata.org/entity/Q302835</a></td>\n",
       "<td class=val>Nasir al-Din al-Tusi</td>\n",
       "<td class=val>male</td></tr><tr class=even><td class=val><a href=\"http://www.wikidata.org/entity/Q999783\" target=\"_other\">http://www.wikidata.org/entity/Q999783</a></td>\n",
       "<td class=val>Buckingham π theorem</td>\n",
       "<td class=val><a href=\"http://www.wikidata.org/entity/Q315436\" target=\"_other\">http://www.wikidata.org/entity/Q315436</a></td>\n",
       "<td class=val>Joseph Louis François Bertrand</td>\n",
       "<td class=val>male</td></tr><tr class=odd><td class=val><a href=\"http://www.wikidata.org/entity/Q929777\" target=\"_other\">http://www.wikidata.org/entity/Q929777</a></td>\n",
       "<td class=val>Gromov–Hausdorff convergence</td>\n",
       "<td class=val><a href=\"http://www.wikidata.org/entity/Q353451\" target=\"_other\">http://www.wikidata.org/entity/Q353451</a></td>\n",
       "<td class=val>Mikhail Gromov</td>\n",
       "<td class=val>male</td></tr><tr class=even><td class=val><a href=\"http://www.wikidata.org/entity/Q944604\" target=\"_other\">http://www.wikidata.org/entity/Q944604</a></td>\n",
       "<td class=val>tennis racket theorem</td>\n",
       "<td class=val><a href=\"http://www.wikidata.org/entity/Q466513\" target=\"_other\">http://www.wikidata.org/entity/Q466513</a></td>\n",
       "<td class=val>Vladimir Dzhanibekov</td>\n",
       "<td class=val>male</td></tr><tr class=odd><td class=val><a href=\"http://www.wikidata.org/entity/Q1037559\" target=\"_other\">http://www.wikidata.org/entity/Q1037559</a></td>\n",
       "<td class=val>Pólya enumeration theorem</td>\n",
       "<td class=val><a href=\"http://www.wikidata.org/entity/Q6240080\" target=\"_other\">http://www.wikidata.org/entity/Q6240080</a></td>\n",
       "<td class=val>J. Howard Redfield</td>\n",
       "<td class=val>male</td></tr><tr class=even><td class=val><a href=\"http://www.wikidata.org/entity/Q1060321\" target=\"_other\">http://www.wikidata.org/entity/Q1060321</a></td>\n",
       "<td class=val>Gaussian integral</td>\n",
       "<td class=val><a href=\"http://www.wikidata.org/entity/Q7604\" target=\"_other\">http://www.wikidata.org/entity/Q7604</a></td>\n",
       "<td class=val>Leonhard Euler</td>\n",
       "<td class=val>male</td></tr><tr class=odd><td class=val><a href=\"http://www.wikidata.org/entity/Q1149225\" target=\"_other\">http://www.wikidata.org/entity/Q1149225</a></td>\n",
       "<td class=val>Euler's four-square identity</td>\n",
       "<td class=val><a href=\"http://www.wikidata.org/entity/Q7604\" target=\"_other\">http://www.wikidata.org/entity/Q7604</a></td>\n",
       "<td class=val>Leonhard Euler</td>\n",
       "<td class=val>male</td></tr><tr class=even><td class=val><a href=\"http://www.wikidata.org/entity/Q1243386\" target=\"_other\">http://www.wikidata.org/entity/Q1243386</a></td>\n",
       "<td class=val>Pósa theorem</td>\n",
       "<td class=val><a href=\"http://www.wikidata.org/entity/Q456029\" target=\"_other\">http://www.wikidata.org/entity/Q456029</a></td>\n",
       "<td class=val>Lajos Pósa</td>\n",
       "<td class=val>male</td></tr><tr class=odd><td class=val><a href=\"http://www.wikidata.org/entity/Q1138810\" target=\"_other\">http://www.wikidata.org/entity/Q1138810</a></td>\n",
       "<td class=val>Cramér–Rao bound</td>\n",
       "<td class=val><a href=\"http://www.wikidata.org/entity/Q471777\" target=\"_other\">http://www.wikidata.org/entity/Q471777</a></td>\n",
       "<td class=val>Harald Cramér</td>\n",
       "<td class=val>male</td></tr><tr class=even><td class=val><a href=\"http://www.wikidata.org/entity/Q1138810\" target=\"_other\">http://www.wikidata.org/entity/Q1138810</a></td>\n",
       "<td class=val>Cramér–Rao bound</td>\n",
       "<td class=val><a href=\"http://www.wikidata.org/entity/Q711237\" target=\"_other\">http://www.wikidata.org/entity/Q711237</a></td>\n",
       "<td class=val>Calyampudi Radhakrishna Rao</td>\n",
       "<td class=val>male</td></tr><tr class=odd><td class=val><a href=\"http://www.wikidata.org/entity/Q1140119\" target=\"_other\">http://www.wikidata.org/entity/Q1140119</a></td>\n",
       "<td class=val>Morera's theorem</td>\n",
       "<td class=val><a href=\"http://www.wikidata.org/entity/Q1522040\" target=\"_other\">http://www.wikidata.org/entity/Q1522040</a></td>\n",
       "<td class=val>Giacinto Morera</td>\n",
       "<td class=val>male</td></tr><tr class=even><td class=val><a href=\"http://www.wikidata.org/entity/Q1207343\" target=\"_other\">http://www.wikidata.org/entity/Q1207343</a></td>\n",
       "<td class=val>Q1207343</td>\n",
       "<td class=val><a href=\"http://www.wikidata.org/entity/Q1705270\" target=\"_other\">http://www.wikidata.org/entity/Q1705270</a></td>\n",
       "<td class=val>Wallace E. Oates</td>\n",
       "<td class=val>male</td></tr></table><div class=\"tinfo\">Total: 20, Shown: 20</div></div>"
      ]
     },
     "metadata": {},
     "output_type": "display_data"
    }
   ],
   "source": [
    "SELECT ?theorem ?theoremLabel ?discoverer ?discovererLabel ?genderLabel\n",
    "WHERE {\n",
    "  SERVICE wikibase:label { bd:serviceParam wikibase:language \"[AUTO_LANGUAGE],en\". }\n",
    "  ?theorem wdt:P31 wd:Q65943.\n",
    "  ?theorem wdt:P61 ?discoverer.\n",
    "  ?discoverer wdt:P21 ?gender.\n",
    "}\n",
    "LIMIT 20"
   ]
  },
  {
   "cell_type": "code",
   "execution_count": null,
   "id": "8c90af7b-7959-451e-873f-ab7a0c56b4ba",
   "metadata": {},
   "outputs": [],
   "source": []
  }
 ],
 "metadata": {
  "kernelspec": {
   "display_name": "SPARQL",
   "language": "sparql",
   "name": "sparql"
  },
  "language_info": {
   "codemirror_mode": {
    "name": "sparql"
   },
   "mimetype": "application/sparql-query",
   "name": "sparql",
   "pygments_lexer": "sparql-nb"
  }
 },
 "nbformat": 4,
 "nbformat_minor": 5
}
