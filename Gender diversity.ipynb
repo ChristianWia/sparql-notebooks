{
 "cells": [
  {
   "cell_type": "raw",
   "id": "a6e5de6f-854a-46e9-984b-227a532adb4a",
   "metadata": {},
   "source": [
    "Gender diversity in wikipedia articles\n",
    "\n",
    "This notebook shows how to measure gender diversity in wikipedia articles.\n"
   ]
  },
  {
   "cell_type": "code",
   "execution_count": 7,
   "id": "cd902343-c5c7-4ada-8eb6-70467e33d873",
   "metadata": {},
   "outputs": [
    {
     "data": {
      "text/html": [
       "<div class=\"krn-spql\"><div class=\"magic\">Endpoint set to: https://query.wikidata.org/bigdata/namespace/wdq/sparql</div><div class=\"magic\">Request format: ANY</div><div class=\"magic\">Display: table</div><div class=\"magic\">Result maximum size: 10</div><div class=\"magic\">Label preferred languages: ['en']</div></div>"
      ],
      "text/plain": [
       "Endpoint set to: https://query.wikidata.org/bigdata/namespace/wdq/sparql\n",
       "Request format: ANY\n",
       "Display: table\n",
       "Result maximum size: 10\n",
       "Label preferred languages: ['en']\n"
      ]
     },
     "metadata": {},
     "output_type": "display_data"
    }
   ],
   "source": [
    "%endpoint https://query.wikidata.org/bigdata/namespace/wdq/sparql\n",
    "%format any\n",
    "%display table\n",
    "%show 10\n",
    "%lang en\n",
    "# The \"magics\" don't have to be in a separate cell from the actual query. \n",
    "# List of magics https://github.com/paulovn/sparql-kernel/blob/master/doc/magics.rst"
   ]
  },
  {
   "cell_type": "raw",
   "id": "4dbd4283-fdaa-41f1-bf9e-e55ca2a87cc3",
   "metadata": {},
   "source": [
    "Simple count\n",
    "\n",
    "This first query provides a simple gender count for a given wikipedia article. It takes the list of internal links from article \"Economics\" in en‧wikipedia‧org and returns the number of females, males, transgender males, transgender females, non-binary and intersexual people.\n"
   ]
  },
  {
   "cell_type": "code",
   "execution_count": 8,
   "id": "e45b489a-d73d-44ad-870f-71ce708f41ed",
   "metadata": {},
   "outputs": [
    {
     "data": {
      "text/html": [
       "<div class=\"krn-spql\"><table><tr class=hdr><th>gender</th>\n",
       "<th>genderLabel</th>\n",
       "<th>count</th></tr><tr class=odd><td class=val><a href=\"http://www.wikidata.org/entity/Q6581097\" target=\"_other\">http://www.wikidata.org/entity/Q6581097</a></td>\n",
       "<td class=val>male</td>\n",
       "<td class=val>129</td></tr><tr class=even><td class=val><a href=\"http://www.wikidata.org/entity/Q6581072\" target=\"_other\">http://www.wikidata.org/entity/Q6581072</a></td>\n",
       "<td class=val>female</td>\n",
       "<td class=val>15</td></tr></table><div class=\"tinfo\">Total: 2, Shown: 2</div></div>"
      ]
     },
     "metadata": {},
     "output_type": "display_data"
    }
   ],
   "source": [
    "SELECT ?gender ?genderLabel (COUNT(*) AS ?count) \n",
    "WHERE {\n",
    "  SERVICE wikibase:mwapi {\n",
    "     bd:serviceParam wikibase:endpoint \"en.wikipedia.org\";\n",
    "                     wikibase:api \"Generator\";\n",
    "                     mwapi:generator \"links\";\n",
    "                     mwapi:titles \"Economics\";.\n",
    "     ?item wikibase:apiOutputItem mwapi:item.\n",
    "  } \n",
    "  FILTER BOUND (?item)\n",
    "  ?item wdt:P31 wd:Q5 . \n",
    "  ?item wdt:P21 ?gender . \n",
    "  ?gender rdfs:label ?genderLabel filter (lang(?genderLabel) = \"en\") .\n",
    "}\n",
    "GROUP BY ?gender ?genderLabel\n",
    "ORDER BY DESC(?count)"
   ]
  },
  {
   "cell_type": "raw",
   "id": "82ced9e5-111d-496e-bb53-84a04f8db8c2",
   "metadata": {},
   "source": [
    "Computing shares\n",
    "\n",
    "This query compute share of women, men, intersexual and non-binary people in the article \"Economics\". I group together \"transgender male\" with \"male\" and \"transgender female\" with \"female\".\n",
    "\n",
    "Caveat : the ROUND function rounds to unity and not to decimal.\n"
   ]
  },
  {
   "cell_type": "code",
   "execution_count": 9,
   "id": "19143923-4c65-46b8-b644-5f44cd2624a3",
   "metadata": {},
   "outputs": [
    {
     "data": {
      "text/html": [
       "<div class=\"krn-spql\"><table><tr class=hdr><th>count_males</th>\n",
       "<th>count_females</th>\n",
       "<th>count_nonbinary</th>\n",
       "<th>count_intersexual</th>\n",
       "<th>count</th>\n",
       "<th>share_females</th>\n",
       "<th>share_nonbinary</th>\n",
       "<th>share_intersexual</th>\n",
       "<th>share_males</th></tr><tr class=odd><td class=val>129</td>\n",
       "<td class=val>15</td>\n",
       "<td class=val>0</td>\n",
       "<td class=val>0</td>\n",
       "<td class=val>144</td>\n",
       "<td class=val>10</td>\n",
       "<td class=val>0</td>\n",
       "<td class=val>0</td>\n",
       "<td class=val>90</td></tr></table><div class=\"tinfo\">Total: 1, Shown: 1</div></div>"
      ]
     },
     "metadata": {},
     "output_type": "display_data"
    }
   ],
   "source": [
    "SELECT (SUM(?male) AS ?count_males)\n",
    "(SUM(?female) AS ?count_females) \n",
    "(SUM(?nonbinary) AS ?count_nonbinary) \n",
    "(SUM(?intersexual) AS ?count_intersexual) \n",
    "(COUNT(*) AS ?count) \n",
    "(ROUND(100 * ?count_females / ?count) AS  ?share_females) \n",
    "(ROUND(100 * ?count_nonbinary / ?count) AS  ?share_nonbinary)\n",
    "(ROUND(100 * ?count_intersexual / ?count) AS ?share_intersexual)\n",
    "(ROUND(100 * ?count_males / ?count) AS  ?share_males) \n",
    "{\n",
    "  SERVICE wikibase:mwapi {\n",
    "     bd:serviceParam wikibase:endpoint \"en.wikipedia.org\";\n",
    "                     wikibase:api \"Generator\";\n",
    "                     mwapi:generator \"links\";\n",
    "                     mwapi:titles \"Economics\";.\n",
    "     ?item wikibase:apiOutputItem mwapi:item.\n",
    "  } \n",
    "  FILTER BOUND (?item)\n",
    "  ?item wdt:P31 wd:Q5 . \n",
    "  ?item wdt:P21 ?gender . \n",
    "  BIND(IF(?gender IN(wd:Q6581097, wd:Q2449503), 1, 0) AS ?male ) \n",
    "  BIND(IF(?gender IN(wd:Q6581072, wd:Q1052281), 1, 0 ) AS ?female)\n",
    "  BIND(IF(?gender = wd:Q48270, 1, 0) AS ?nonbinary) \n",
    "  BIND(IF(?gender = wd:Q1097630, 1,0) AS ?intersexual)\n",
    "}"
   ]
  },
  {
   "cell_type": "raw",
   "id": "7236e962-39cf-4d17-8064-c46862d24e9f",
   "metadata": {},
   "source": [
    "Comparing shares accross different articles\n",
    "\n",
    "This query compares the share of women, men, non-binary and intersexual between several articles.\n",
    "\n",
    "This query seems to be very computer intensive.\n"
   ]
  },
  {
   "cell_type": "code",
   "execution_count": 10,
   "id": "c6249d94-aabc-417d-9978-b1f7960b6984",
   "metadata": {},
   "outputs": [
    {
     "data": {
      "text/html": [
       "<div class=\"krn-spql\"><div class=\"krn-error\"><span class=\"title\">Error:</span> SPARQL error: EndPointInternalError: The endpoint returned the HTTP status code 500. <br/><br/>Response:<br/>b'SPARQL-QUERY: queryStr=SELECT ?article\\n(SUM(?female) AS ?count_females) \\n(SUM(?male) AS ?count_males)\\n(SUM(?nonbinary) AS ?count_nonbinary) \\n(SUM(?intersexual) AS ?count_intersexual) \\n(COUNT(*) AS ?count) \\n(ROUND(100 * ?count_females / ?count) AS  ?share_females) \\n(ROUND(100 * ?count_males / ?count) AS  ?share_males) \\n(ROUND(100 * ?count_nonbinary / ?count) AS  ?share_nonbinary)\\n(ROUND(100 * ?count_intersexual / ?count) AS ?share_intersexual)\\n{\\n  VALUES ?article {\\n  &quot;Anthropology&quot;\\n  &quot;Philosophy&quot;\\n  &quot;Economics&quot;\\n  &quot;Sociology&quot;\\n  &quot;Demography&quot;\\n  }\\n  SERVICE wikibase:mwapi {\\n     bd:serviceParam wikibase:endpoint &quot;enwikipedia.org&quot;;\\n                     wikibase:api &quot;Generator&quot;;\\n                     mwapi:generator &quot;links&quot;;\\n                     mwapi:titles ?article;.\\n     ?item wikibase:apiOutputItem mwapi:item.\\n  } \\n  FILTER BOUND (?item)\\n  ?item wdt:P31 wd:Q5 . \\n  ?item wdt:P21 ?gender . \\n  BIND(IF(?gender IN(wd:Q6581097, wd:Q2449503), 1, 0) AS ?male ) \\n  BIND(IF(?gender IN(wd:Q6581072, wd:Q1052281), 1, 0 ) AS ?female)\\n  BIND(IF(?gender = wd:Q48270, 1, 0) AS ?nonbinary) \\n  BIND(IF(?gender = wd:Q1097630, 1,0) AS ?intersexual)\\n}\\nGROUP BY ?article\\njava.util.concurrent.ExecutionException: java.util.concurrent.ExecutionException: java.lang.IllegalArgumentException: Host enwikipedia.org is not allowed\\n\\tat java.util.concurrent.FutureTask.report(FutureTask.java:122)\\n\\tat java.util.concurrent.FutureTask.get(FutureTask.java:206)\\n\\tat com.bigdata.rdf.sail.webapp.BigdataServlet.submitApiTask(BigdataServlet.java:292)\\n\\tat com.bigdata.rdf.sail.webapp.QueryServlet.doSparqlQuery(QueryServlet.java:678)\\n\\tat com.bigdata.rdf.sail.webapp.QueryServlet.doGet(QueryServlet.java:290)\\n\\tat com.bigdata.rdf.sail.webapp.RESTServlet.doGet(RESTServlet.java:240)\\n\\tat com.bigdata.rdf.sail.webapp.MultiTenancyServlet.doGet(MultiTenancyServlet.java:273)\\n\\tat javax.servlet.http.HttpServlet.service(HttpServlet.java:687)\\n\\tat javax.servlet.http.HttpServlet.service(HttpServlet.java:790)\\n\\tat org.eclipse.jetty.servlet.ServletHolder.handle(ServletHolder.java:865)\\n\\tat org.eclipse.jetty.servlet.ServletHandler$CachedChain.doFilter(ServletHandler.java:1655)\\n\\tat org.wikidata.query.rdf.blazegraph.throttling.ThrottlingFilter.doFilter(ThrottlingFilter.java:322)\\n\\tat org.eclipse.jetty.servlet.ServletHandler$CachedChain.doFilter(ServletHandler.java:1642)\\n\\tat org.wikidata.query.rdf.blazegraph.throttling.SystemOverloadFilter.doFilter(SystemOverloadFilter.java:84)\\n\\tat org.eclipse.jetty.servlet.ServletHandler$CachedChain.doFilter(ServletHandler.java:1642)\\n\\tat ch.qos.logback.classic.helpers.MDCInsertingServletFilter.doFilter(MDCInsertingServletFilter.java:50)\\n\\tat org.eclipse.jetty.servlet.ServletHandler$CachedChain.doFilter(ServletHandler.java:1642)\\n\\tat org.wikidata.query.rdf.blazegraph.filters.QueryEventSenderFilter.doFilter(QueryEventSenderFilter.java:125)\\n\\tat org.eclipse.jetty.servlet.ServletHandler$CachedChain.doFilter(ServletHandler.java:1642)\\n\\tat org.wikidata.query.rdf.blazegraph.filters.ClientIPFilter.doFilter(ClientIPFilter.java:43)\\n\\tat org.eclipse.jetty.servlet.ServletHandler$CachedChain.doFilter(ServletHandler.java:1642)\\n\\tat org.wikidata.query.rdf.blazegraph.filters.JWTIdentityFilter.doFilter(JWTIdentityFilter.java:66)\\n\\tat org.eclipse.jetty.servlet.ServletHandler$CachedChain.doFilter(ServletHandler.java:1642)\\n\\tat org.wikidata.query.rdf.blazegraph.filters.RealAgentFilter.doFilter(RealAgentFilter.java:33)\\n\\tat org.eclipse.jetty.servlet.ServletHandler$CachedChain.doFilter(ServletHandler.java:1642)\\n\\tat org.wikidata.query.rdf.blazegraph.filters.RequestConcurrencyFilter.doFilter(RequestConcurrencyFilter.java:50)\\n\\tat org.eclipse.jetty.servlet.ServletHandler$CachedChain.doFilter(ServletHandler.java:1634)\\n\\tat org.eclipse.jetty.servlet.ServletHandler.doHandle(ServletHandler.java:533)\\n\\tat org.eclipse.jetty.server.handler.ScopedHandler.handle(ScopedHandler.java:146)\\n\\tat org.eclipse.jetty.security.SecurityHandler.handle(SecurityHandler.java:548)\\n\\tat org.eclipse.jetty.server.handler.HandlerWrapper.handle(HandlerWrapper.java:132)\\n\\tat org.eclipse.jetty.server.handler.ScopedHandler.nextHandle(ScopedHandler.java:257)\\n\\tat org.eclipse.jetty.server.session.SessionHandler.doHandle(SessionHandler.java:1595)\\n\\tat org.eclipse.jetty.server.handler.ScopedHandler.nextHandle(ScopedHandler.java:255)\\n\\tat org.eclipse.jetty.server.handler.ContextHandler.doHandle(ContextHandler.java:1340)\\n\\tat org.eclipse.jetty.server.handler.ScopedHandler.nextScope(ScopedHandler.java:203)\\n\\tat org.eclipse.jetty.servlet.ServletHandler.doScope(ServletHandler.java:473)\\n\\tat org.eclipse.jetty.server.session.SessionHandler.doScope(SessionHandler.java:1564)\\n\\tat org.eclipse.jetty.server.handler.ScopedHandler.nextScope(ScopedHandler.java:201)\\n\\tat org.eclipse.jetty.server.handler.ContextHandler.doScope(ContextHandler.java:1242)\\n\\tat org.eclipse.jetty.server.handler.ScopedHandler.handle(ScopedHandler.java:144)\\n\\tat org.eclipse.jetty.server.handler.ContextHandlerCollection.handle(ContextHandlerCollection.java:220)\\n\\tat org.eclipse.jetty.server.handler.HandlerCollection.handle(HandlerCollection.java:126)\\n\\tat org.eclipse.jetty.server.handler.HandlerWrapper.handle(HandlerWrapper.java:132)\\n\\tat org.eclipse.jetty.server.Server.handle(Server.java:503)\\n\\tat org.eclipse.jetty.server.HttpChannel.handle(HttpChannel.java:364)\\n\\tat org.eclipse.jetty.server.HttpConnection.onFillable(HttpConnection.java:260)\\n\\tat org.eclipse.jetty.io.AbstractConnection$ReadCallback.succeeded(AbstractConnection.java:305)\\n\\tat org.eclipse.jetty.io.FillInterest.fillable(FillInterest.java:103)\\n\\tat org.eclipse.jetty.io.ChannelEndPoint$2.run(ChannelEndPoint.java:118)\\n\\tat org.eclipse.jetty.util.thread.strategy.EatWhatYouKill.runTask(EatWhatYouKill.java:333)\\n\\tat org.eclipse.jetty.util.thread.strategy.EatWhatYouKill.doProduce(EatWhatYouKill.java:310)\\n\\tat org.eclipse.jetty.util.thread.strategy.EatWhatYouKill.tryProduce(EatWhatYouKill.java:168)\\n\\tat org.eclipse.jetty.util.thread.strategy.EatWhatYouKill.run(EatWhatYouKill.java:126)\\n\\tat org.eclipse.jetty.util.thread.ReservedThreadExecutor$ReservedThread.run(ReservedThreadExecutor.java:366)\\n\\tat org.eclipse.jetty.util.thread.QueuedThreadPool.runJob(QueuedThreadPool.java:765)\\n\\tat org.eclipse.jetty.util.thread.QueuedThreadPool$2.run(QueuedThreadPool.java:683)\\n\\tat java.lang.Thread.run(Thread.java:750)\\nCaused by: java.util.concurrent.ExecutionException: java.lang.IllegalArgumentException: Host enwikipedia.org is not allowed\\n\\tat java.util.concurrent.FutureTask.report(FutureTask.java:122)\\n\\tat java.util.concurrent.FutureTask.get(FutureTask.java:192)\\n\\tat com.bigdata.rdf.sail.webapp.QueryServlet$SparqlQueryTask.call(QueryServlet.java:889)\\n\\tat com.bigdata.rdf.sail.webapp.QueryServlet$SparqlQueryTask.call(QueryServlet.java:695)\\n\\tat com.bigdata.rdf.task.ApiTaskForIndexManager.call(ApiTaskForIndexManager.java:68)\\n\\tat java.util.concurrent.FutureTask.run(FutureTask.java:266)\\n\\tat java.util.concurrent.ThreadPoolExecutor.runWorker(ThreadPoolExecutor.java:1149)\\n\\tat java.util.concurrent.ThreadPoolExecutor$Worker.run(ThreadPoolExecutor.java:624)\\n\\t... 1 more\\nCaused by: java.lang.IllegalArgumentException: Host enwikipedia.org is not allowed\\n\\tat org.wikidata.query.rdf.blazegraph.mwapi.Endpoint.getURLFromValue(Endpoint.java:44)\\n\\tat org.wikidata.query.rdf.blazegraph.mwapi.Endpoint.create(Endpoint.java:32)\\n\\tat org.wikidata.query.rdf.blazegraph.mwapi.MWApiServiceFactory.getServiceHost(MWApiServiceFactory.java:202)\\n\\tat org.wikidata.query.rdf.blazegraph.mwapi.MWApiServiceFactory.create(MWApiServiceFactory.java:170)\\n\\tat com.bigdata.rdf.sparql.ast.eval.AbstractServiceFactory.create(AbstractServiceFactory.java:70)\\n\\tat com.bigdata.rdf.sparql.ast.eval.AbstractServiceFactory.create(AbstractServiceFactory.java:41)\\n\\tat com.bigdata.rdf.sparql.ast.service.ServiceRegistry.toServiceCall(ServiceRegistry.java:497)\\n\\tat com.bigdata.rdf.sparql.ast.eval.AST2BOpUtility.addServiceCall(AST2BOpUtility.java:1052)\\n\\tat com.bigdata.rdf.sparql.ast.eval.AST2BOpUtility.convertJoinGroup(AST2BOpUtility.java:3280)\\n\\tat com.bigdata.rdf.sparql.ast.eval.AST2BOpUtility.convertJoinGroupOrUnion(AST2BOpUtility.java:2600)\\n\\tat com.bigdata.rdf.sparql.ast.eval.AST2BOpUtility.convertQueryBaseWithScopedVars(AST2BOpUtility.java:474)\\n\\tat com.bigdata.rdf.sparql.ast.eval.AST2BOpUtility.convert(AST2BOpUtility.java:287)\\n\\tat com.bigdata.rdf.sparql.ast.eval.ASTEvalHelper.optimizeQuery(ASTEvalHelper.java:426)\\n\\tat com.bigdata.rdf.sparql.ast.eval.ASTEvalHelper.evaluateTupleQuery(ASTEvalHelper.java:212)\\n\\tat com.bigdata.rdf.sail.BigdataSailTupleQuery.evaluate(BigdataSailTupleQuery.java:79)\\n\\tat com.bigdata.rdf.sail.BigdataSailTupleQuery.evaluate(BigdataSailTupleQuery.java:61)\\n\\tat org.openrdf.repository.sail.SailTupleQuery.evaluate(SailTupleQuery.java:75)\\n\\tat com.bigdata.rdf.sail.webapp.BigdataRDFContext$TupleQueryTask.doQuery(BigdataRDFContext.java:1722)\\n\\tat com.bigdata.rdf.sail.webapp.BigdataRDFContext$AbstractQueryTask.innerCall(BigdataRDFContext.java:1579)\\n\\tat com.bigdata.rdf.sail.webapp.BigdataRDFContext$AbstractQueryTask.call(BigdataRDFContext.java:1544)\\n\\tat com.bigdata.rdf.sail.webapp.BigdataRDFContext$AbstractQueryTask.call(BigdataRDFContext.java:757)\\n\\t... 4 more\\n'</div></div>"
      ],
      "text/plain": [
       "Error: SPARQL error: EndPointInternalError: The endpoint returned the HTTP status code 500. \n",
       "\n",
       "Response:\n",
       "b'SPARQL-QUERY: queryStr=SELECT ?article\\n(SUM(?female) AS ?count_females) \\n(SUM(?male) AS ?count_males)\\n(SUM(?nonbinary) AS ?count_nonbinary) \\n(SUM(?intersexual) AS ?count_intersexual) \\n(COUNT(*) AS ?count) \\n(ROUND(100 * ?count_females / ?count) AS  ?share_females) \\n(ROUND(100 * ?count_males / ?count) AS  ?share_males) \\n(ROUND(100 * ?count_nonbinary / ?count) AS  ?share_nonbinary)\\n(ROUND(100 * ?count_intersexual / ?count) AS ?share_intersexual)\\n{\\n  VALUES ?article {\\n  \"Anthropology\"\\n  \"Philosophy\"\\n  \"Economics\"\\n  \"Sociology\"\\n  \"Demography\"\\n  }\\n  SERVICE wikibase:mwapi {\\n     bd:serviceParam wikibase:endpoint \"enwikipedia.org\";\\n                     wikibase:api \"Generator\";\\n                     mwapi:generator \"links\";\\n                     mwapi:titles ?article;.\\n     ?item wikibase:apiOutputItem mwapi:item.\\n  } \\n  FILTER BOUND (?item)\\n  ?item wdt:P31 wd:Q5 . \\n  ?item wdt:P21 ?gender . \\n  BIND(IF(?gender IN(wd:Q6581097, wd:Q2449503), 1, 0) AS ?male ) \\n  BIND(IF(?gender IN(wd:Q6581072, wd:Q1052281), 1, 0 ) AS ?female)\\n  BIND(IF(?gender = wd:Q48270, 1, 0) AS ?nonbinary) \\n  BIND(IF(?gender = wd:Q1097630, 1,0) AS ?intersexual)\\n}\\nGROUP BY ?article\\njava.util.concurrent.ExecutionException: java.util.concurrent.ExecutionException: java.lang.IllegalArgumentException: Host enwikipedia.org is not allowed\\n\\tat java.util.concurrent.FutureTask.report(FutureTask.java:122)\\n\\tat java.util.concurrent.FutureTask.get(FutureTask.java:206)\\n\\tat com.bigdata.rdf.sail.webapp.BigdataServlet.submitApiTask(BigdataServlet.java:292)\\n\\tat com.bigdata.rdf.sail.webapp.QueryServlet.doSparqlQuery(QueryServlet.java:678)\\n\\tat com.bigdata.rdf.sail.webapp.QueryServlet.doGet(QueryServlet.java:290)\\n\\tat com.bigdata.rdf.sail.webapp.RESTServlet.doGet(RESTServlet.java:240)\\n\\tat com.bigdata.rdf.sail.webapp.MultiTenancyServlet.doGet(MultiTenancyServlet.java:273)\\n\\tat javax.servlet.http.HttpServlet.service(HttpServlet.java:687)\\n\\tat javax.servlet.http.HttpServlet.service(HttpServlet.java:790)\\n\\tat org.eclipse.jetty.servlet.ServletHolder.handle(ServletHolder.java:865)\\n\\tat org.eclipse.jetty.servlet.ServletHandler$CachedChain.doFilter(ServletHandler.java:1655)\\n\\tat org.wikidata.query.rdf.blazegraph.throttling.ThrottlingFilter.doFilter(ThrottlingFilter.java:322)\\n\\tat org.eclipse.jetty.servlet.ServletHandler$CachedChain.doFilter(ServletHandler.java:1642)\\n\\tat org.wikidata.query.rdf.blazegraph.throttling.SystemOverloadFilter.doFilter(SystemOverloadFilter.java:84)\\n\\tat org.eclipse.jetty.servlet.ServletHandler$CachedChain.doFilter(ServletHandler.java:1642)\\n\\tat ch.qos.logback.classic.helpers.MDCInsertingServletFilter.doFilter(MDCInsertingServletFilter.java:50)\\n\\tat org.eclipse.jetty.servlet.ServletHandler$CachedChain.doFilter(ServletHandler.java:1642)\\n\\tat org.wikidata.query.rdf.blazegraph.filters.QueryEventSenderFilter.doFilter(QueryEventSenderFilter.java:125)\\n\\tat org.eclipse.jetty.servlet.ServletHandler$CachedChain.doFilter(ServletHandler.java:1642)\\n\\tat org.wikidata.query.rdf.blazegraph.filters.ClientIPFilter.doFilter(ClientIPFilter.java:43)\\n\\tat org.eclipse.jetty.servlet.ServletHandler$CachedChain.doFilter(ServletHandler.java:1642)\\n\\tat org.wikidata.query.rdf.blazegraph.filters.JWTIdentityFilter.doFilter(JWTIdentityFilter.java:66)\\n\\tat org.eclipse.jetty.servlet.ServletHandler$CachedChain.doFilter(ServletHandler.java:1642)\\n\\tat org.wikidata.query.rdf.blazegraph.filters.RealAgentFilter.doFilter(RealAgentFilter.java:33)\\n\\tat org.eclipse.jetty.servlet.ServletHandler$CachedChain.doFilter(ServletHandler.java:1642)\\n\\tat org.wikidata.query.rdf.blazegraph.filters.RequestConcurrencyFilter.doFilter(RequestConcurrencyFilter.java:50)\\n\\tat org.eclipse.jetty.servlet.ServletHandler$CachedChain.doFilter(ServletHandler.java:1634)\\n\\tat org.eclipse.jetty.servlet.ServletHandler.doHandle(ServletHandler.java:533)\\n\\tat org.eclipse.jetty.server.handler.ScopedHandler.handle(ScopedHandler.java:146)\\n\\tat org.eclipse.jetty.security.SecurityHandler.handle(SecurityHandler.java:548)\\n\\tat org.eclipse.jetty.server.handler.HandlerWrapper.handle(HandlerWrapper.java:132)\\n\\tat org.eclipse.jetty.server.handler.ScopedHandler.nextHandle(ScopedHandler.java:257)\\n\\tat org.eclipse.jetty.server.session.SessionHandler.doHandle(SessionHandler.java:1595)\\n\\tat org.eclipse.jetty.server.handler.ScopedHandler.nextHandle(ScopedHandler.java:255)\\n\\tat org.eclipse.jetty.server.handler.ContextHandler.doHandle(ContextHandler.java:1340)\\n\\tat org.eclipse.jetty.server.handler.ScopedHandler.nextScope(ScopedHandler.java:203)\\n\\tat org.eclipse.jetty.servlet.ServletHandler.doScope(ServletHandler.java:473)\\n\\tat org.eclipse.jetty.server.session.SessionHandler.doScope(SessionHandler.java:1564)\\n\\tat org.eclipse.jetty.server.handler.ScopedHandler.nextScope(ScopedHandler.java:201)\\n\\tat org.eclipse.jetty.server.handler.ContextHandler.doScope(ContextHandler.java:1242)\\n\\tat org.eclipse.jetty.server.handler.ScopedHandler.handle(ScopedHandler.java:144)\\n\\tat org.eclipse.jetty.server.handler.ContextHandlerCollection.handle(ContextHandlerCollection.java:220)\\n\\tat org.eclipse.jetty.server.handler.HandlerCollection.handle(HandlerCollection.java:126)\\n\\tat org.eclipse.jetty.server.handler.HandlerWrapper.handle(HandlerWrapper.java:132)\\n\\tat org.eclipse.jetty.server.Server.handle(Server.java:503)\\n\\tat org.eclipse.jetty.server.HttpChannel.handle(HttpChannel.java:364)\\n\\tat org.eclipse.jetty.server.HttpConnection.onFillable(HttpConnection.java:260)\\n\\tat org.eclipse.jetty.io.AbstractConnection$ReadCallback.succeeded(AbstractConnection.java:305)\\n\\tat org.eclipse.jetty.io.FillInterest.fillable(FillInterest.java:103)\\n\\tat org.eclipse.jetty.io.ChannelEndPoint$2.run(ChannelEndPoint.java:118)\\n\\tat org.eclipse.jetty.util.thread.strategy.EatWhatYouKill.runTask(EatWhatYouKill.java:333)\\n\\tat org.eclipse.jetty.util.thread.strategy.EatWhatYouKill.doProduce(EatWhatYouKill.java:310)\\n\\tat org.eclipse.jetty.util.thread.strategy.EatWhatYouKill.tryProduce(EatWhatYouKill.java:168)\\n\\tat org.eclipse.jetty.util.thread.strategy.EatWhatYouKill.run(EatWhatYouKill.java:126)\\n\\tat org.eclipse.jetty.util.thread.ReservedThreadExecutor$ReservedThread.run(ReservedThreadExecutor.java:366)\\n\\tat org.eclipse.jetty.util.thread.QueuedThreadPool.runJob(QueuedThreadPool.java:765)\\n\\tat org.eclipse.jetty.util.thread.QueuedThreadPool$2.run(QueuedThreadPool.java:683)\\n\\tat java.lang.Thread.run(Thread.java:750)\\nCaused by: java.util.concurrent.ExecutionException: java.lang.IllegalArgumentException: Host enwikipedia.org is not allowed\\n\\tat java.util.concurrent.FutureTask.report(FutureTask.java:122)\\n\\tat java.util.concurrent.FutureTask.get(FutureTask.java:192)\\n\\tat com.bigdata.rdf.sail.webapp.QueryServlet$SparqlQueryTask.call(QueryServlet.java:889)\\n\\tat com.bigdata.rdf.sail.webapp.QueryServlet$SparqlQueryTask.call(QueryServlet.java:695)\\n\\tat com.bigdata.rdf.task.ApiTaskForIndexManager.call(ApiTaskForIndexManager.java:68)\\n\\tat java.util.concurrent.FutureTask.run(FutureTask.java:266)\\n\\tat java.util.concurrent.ThreadPoolExecutor.runWorker(ThreadPoolExecutor.java:1149)\\n\\tat java.util.concurrent.ThreadPoolExecutor$Worker.run(ThreadPoolExecutor.java:624)\\n\\t... 1 more\\nCaused by: java.lang.IllegalArgumentException: Host enwikipedia.org is not allowed\\n\\tat org.wikidata.query.rdf.blazegraph.mwapi.Endpoint.getURLFromValue(Endpoint.java:44)\\n\\tat org.wikidata.query.rdf.blazegraph.mwapi.Endpoint.create(Endpoint.java:32)\\n\\tat org.wikidata.query.rdf.blazegraph.mwapi.MWApiServiceFactory.getServiceHost(MWApiServiceFactory.java:202)\\n\\tat org.wikidata.query.rdf.blazegraph.mwapi.MWApiServiceFactory.create(MWApiServiceFactory.java:170)\\n\\tat com.bigdata.rdf.sparql.ast.eval.AbstractServiceFactory.create(AbstractServiceFactory.java:70)\\n\\tat com.bigdata.rdf.sparql.ast.eval.AbstractServiceFactory.create(AbstractServiceFactory.java:41)\\n\\tat com.bigdata.rdf.sparql.ast.service.ServiceRegistry.toServiceCall(ServiceRegistry.java:497)\\n\\tat com.bigdata.rdf.sparql.ast.eval.AST2BOpUtility.addServiceCall(AST2BOpUtility.java:1052)\\n\\tat com.bigdata.rdf.sparql.ast.eval.AST2BOpUtility.convertJoinGroup(AST2BOpUtility.java:3280)\\n\\tat com.bigdata.rdf.sparql.ast.eval.AST2BOpUtility.convertJoinGroupOrUnion(AST2BOpUtility.java:2600)\\n\\tat com.bigdata.rdf.sparql.ast.eval.AST2BOpUtility.convertQueryBaseWithScopedVars(AST2BOpUtility.java:474)\\n\\tat com.bigdata.rdf.sparql.ast.eval.AST2BOpUtility.convert(AST2BOpUtility.java:287)\\n\\tat com.bigdata.rdf.sparql.ast.eval.ASTEvalHelper.optimizeQuery(ASTEvalHelper.java:426)\\n\\tat com.bigdata.rdf.sparql.ast.eval.ASTEvalHelper.evaluateTupleQuery(ASTEvalHelper.java:212)\\n\\tat com.bigdata.rdf.sail.BigdataSailTupleQuery.evaluate(BigdataSailTupleQuery.java:79)\\n\\tat com.bigdata.rdf.sail.BigdataSailTupleQuery.evaluate(BigdataSailTupleQuery.java:61)\\n\\tat org.openrdf.repository.sail.SailTupleQuery.evaluate(SailTupleQuery.java:75)\\n\\tat com.bigdata.rdf.sail.webapp.BigdataRDFContext$TupleQueryTask.doQuery(BigdataRDFContext.java:1722)\\n\\tat com.bigdata.rdf.sail.webapp.BigdataRDFContext$AbstractQueryTask.innerCall(BigdataRDFContext.java:1579)\\n\\tat com.bigdata.rdf.sail.webapp.BigdataRDFContext$AbstractQueryTask.call(BigdataRDFContext.java:1544)\\n\\tat com.bigdata.rdf.sail.webapp.BigdataRDFContext$AbstractQueryTask.call(BigdataRDFContext.java:757)\\n\\t... 4 more\\n'"
      ]
     },
     "metadata": {},
     "output_type": "display_data"
    }
   ],
   "source": [
    "SELECT ?article\n",
    "(SUM(?female) AS ?count_females) \n",
    "(SUM(?male) AS ?count_males)\n",
    "(SUM(?nonbinary) AS ?count_nonbinary) \n",
    "(SUM(?intersexual) AS ?count_intersexual) \n",
    "(COUNT(*) AS ?count) \n",
    "(ROUND(100 * ?count_females / ?count) AS  ?share_females) \n",
    "(ROUND(100 * ?count_males / ?count) AS  ?share_males) \n",
    "(ROUND(100 * ?count_nonbinary / ?count) AS  ?share_nonbinary)\n",
    "(ROUND(100 * ?count_intersexual / ?count) AS ?share_intersexual)\n",
    "{\n",
    "  VALUES ?article {\n",
    "  \"Anthropology\"\n",
    "  \"Philosophy\"\n",
    "  \"Economics\"\n",
    "  \"Sociology\"\n",
    "  \"Demography\"\n",
    "  }\n",
    "  SERVICE wikibase:mwapi {\n",
    "     bd:serviceParam wikibase:endpoint \"enwikipedia.org\";\n",
    "                     wikibase:api \"Generator\";\n",
    "                     mwapi:generator \"links\";\n",
    "                     mwapi:titles ?article;.\n",
    "     ?item wikibase:apiOutputItem mwapi:item.\n",
    "  } \n",
    "  FILTER BOUND (?item)\n",
    "  ?item wdt:P31 wd:Q5 . \n",
    "  ?item wdt:P21 ?gender . \n",
    "  BIND(IF(?gender IN(wd:Q6581097, wd:Q2449503), 1, 0) AS ?male ) \n",
    "  BIND(IF(?gender IN(wd:Q6581072, wd:Q1052281), 1, 0 ) AS ?female)\n",
    "  BIND(IF(?gender = wd:Q48270, 1, 0) AS ?nonbinary) \n",
    "  BIND(IF(?gender = wd:Q1097630, 1,0) AS ?intersexual)\n",
    "}\n",
    "GROUP BY ?article"
   ]
  },
  {
   "cell_type": "code",
   "execution_count": null,
   "id": "cc07b65f-f301-454e-a1a7-0afe2a8b8503",
   "metadata": {},
   "outputs": [],
   "source": []
  }
 ],
 "metadata": {
  "kernelspec": {
   "display_name": "SPARQL",
   "language": "sparql",
   "name": "sparql"
  },
  "language_info": {
   "codemirror_mode": {
    "name": "sparql"
   },
   "mimetype": "application/sparql-query",
   "name": "sparql",
   "pygments_lexer": "sparql-nb"
  }
 },
 "nbformat": 4,
 "nbformat_minor": 5
}
