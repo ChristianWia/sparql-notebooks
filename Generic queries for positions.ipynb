{
 "cells": [
  {
   "cell_type": "raw",
   "id": "1ec2b6f0-cb56-4ddc-abc1-54c8a15a1931",
   "metadata": {},
   "source": [
    "Generic queries for positions\n",
    "\n",
    "This notebook explores queries for items ofclass position (https://www.wikidata.org/wiki/Q4164871 which should be objects of P39 property).\n"
   ]
  },
  {
   "cell_type": "code",
   "execution_count": 1,
   "id": "587b016d-91a1-4a01-9cb1-ba72478364d3",
   "metadata": {},
   "outputs": [
    {
     "data": {
      "text/html": [
       "<div class=\"krn-spql\"><div class=\"magic\">Endpoint set to: https://query.wikidata.org/bigdata/namespace/wdq/sparql</div><div class=\"magic\">Request format: ANY</div><div class=\"magic\">Display: table</div><div class=\"magic\">Result maximum size: 10</div><div class=\"magic\">Label preferred languages: ['en']</div></div>"
      ],
      "text/plain": [
       "Endpoint set to: https://query.wikidata.org/bigdata/namespace/wdq/sparql\n",
       "Request format: ANY\n",
       "Display: table\n",
       "Result maximum size: 10\n",
       "Label preferred languages: ['en']\n"
      ]
     },
     "metadata": {},
     "output_type": "display_data"
    }
   ],
   "source": [
    "%endpoint https://query.wikidata.org/bigdata/namespace/wdq/sparql\n",
    "%format any\n",
    "%display table\n",
    "%show 10\n",
    "%lang en\n",
    "# The \"magics\" don't have to be in a separate cell from the actual query. \n",
    "# List of magics https://github.com/paulovn/sparql-kernel/blob/master/doc/magics.rst"
   ]
  },
  {
   "cell_type": "raw",
   "id": "13db4c25-aab9-4bef-a747-47813948fb8e",
   "metadata": {},
   "source": [
    "List of people holding a given position\n",
    "\n",
    "    We look at the list of people holding the position minister of Culture (https://www.wikidata.org/wiki/Q12436652) with start and end date.\n",
    "\n"
   ]
  },
  {
   "cell_type": "code",
   "execution_count": 2,
   "id": "c60adb08-5cf9-4aae-9116-f7336a54ed1a",
   "metadata": {},
   "outputs": [
    {
     "data": {
      "text/html": [
       "<div class=\"krn-spql\"><table><tr class=hdr><th>item</th>\n",
       "<th>itemLabel</th>\n",
       "<th>start</th>\n",
       "<th>end</th></tr><tr class=odd><td class=val><a href=\"http://www.wikidata.org/entity/Q27182\" target=\"_other\">http://www.wikidata.org/entity/Q27182</a></td>\n",
       "<td class=val>Rachida Dati</td>\n",
       "<td class=val>2024-01-11T00:00:00Z</td>\n",
       "<td class=val></td></tr><tr class=even><td class=val><a href=\"http://www.wikidata.org/entity/Q112079659\" target=\"_other\">http://www.wikidata.org/entity/Q112079659</a></td>\n",
       "<td class=val>Rima Abdul Malak</td>\n",
       "<td class=val>2022-05-20T00:00:00Z</td>\n",
       "<td class=val>2024-01-11T00:00:00Z</td></tr><tr class=odd><td class=val><a href=\"http://www.wikidata.org/entity/Q436173\" target=\"_other\">http://www.wikidata.org/entity/Q436173</a></td>\n",
       "<td class=val>Roselyne Bachelot</td>\n",
       "<td class=val>2020-07-06T00:00:00Z</td>\n",
       "<td class=val>2022-05-20T00:00:00Z</td></tr><tr class=even><td class=val><a href=\"http://www.wikidata.org/entity/Q64463\" target=\"_other\">http://www.wikidata.org/entity/Q64463</a></td>\n",
       "<td class=val>Franck Riester</td>\n",
       "<td class=val>2018-10-16T00:00:00Z</td>\n",
       "<td class=val>2020-07-03T00:00:00Z</td></tr><tr class=odd><td class=val><a href=\"http://www.wikidata.org/entity/Q29962565\" target=\"_other\">http://www.wikidata.org/entity/Q29962565</a></td>\n",
       "<td class=val>Françoise Nyssen</td>\n",
       "<td class=val>2017-06-21T00:00:00Z</td>\n",
       "<td class=val>2018-10-16T00:00:00Z</td></tr><tr class=even><td class=val><a href=\"http://www.wikidata.org/entity/Q29962565\" target=\"_other\">http://www.wikidata.org/entity/Q29962565</a></td>\n",
       "<td class=val>Françoise Nyssen</td>\n",
       "<td class=val>2017-05-17T00:00:00Z</td>\n",
       "<td class=val>2017-06-21T00:00:00Z</td></tr><tr class=odd><td class=val><a href=\"http://www.wikidata.org/entity/Q22683089\" target=\"_other\">http://www.wikidata.org/entity/Q22683089</a></td>\n",
       "<td class=val>Audrey Azoulay</td>\n",
       "<td class=val>2016-12-06T00:00:00Z</td>\n",
       "<td class=val>2017-05-10T00:00:00Z</td></tr><tr class=even><td class=val><a href=\"http://www.wikidata.org/entity/Q22683089\" target=\"_other\">http://www.wikidata.org/entity/Q22683089</a></td>\n",
       "<td class=val>Audrey Azoulay</td>\n",
       "<td class=val>2016-02-11T00:00:00Z</td>\n",
       "<td class=val>2016-12-06T00:00:00Z</td></tr><tr class=odd><td class=val><a href=\"http://www.wikidata.org/entity/Q268660\" target=\"_other\">http://www.wikidata.org/entity/Q268660</a></td>\n",
       "<td class=val>Fleur Pellerin</td>\n",
       "<td class=val>2014-08-26T00:00:00Z</td>\n",
       "<td class=val>2016-02-11T00:00:00Z</td></tr><tr class=even><td class=val><a href=\"http://www.wikidata.org/entity/Q198005\" target=\"_other\">http://www.wikidata.org/entity/Q198005</a></td>\n",
       "<td class=val>Aurélie Filippetti</td>\n",
       "<td class=val>2014-04-02T00:00:00Z</td>\n",
       "<td class=val>2014-08-25T00:00:00Z</td></tr></table><div class=\"tinfo\">Total: 53, Shown: 10</div></div>"
      ]
     },
     "metadata": {},
     "output_type": "display_data"
    }
   ],
   "source": [
    "SELECT ?item ?itemLabel ?start ?end WHERE {\n",
    "  ?item p:P39 ?statement.\n",
    "  ?statement ps:P39 wd:Q12436652.\n",
    "  OPTIONAL { ?statement pq:P580 ?start. }\n",
    "  OPTIONAL { ?statement pq:P582 ?end. }\n",
    "  SERVICE wikibase:label { bd:serviceParam wikibase:language \"[AUTO_LANGUAGE],en\". }\n",
    "}\n",
    "ORDER BY DESC (?start)"
   ]
  },
  {
   "cell_type": "raw",
   "id": "29e16595-553b-4f6b-9b67-de8d715ca8cc",
   "metadata": {},
   "source": [
    "Number of people having hold a given position by gender\n",
    "\n",
    "    We look at the number of people having hold the position minister of culture (https://www.wikidata.org/wiki/Q12436652) by gender (P21)\n",
    "\n"
   ]
  },
  {
   "cell_type": "code",
   "execution_count": 3,
   "id": "40cf2370-1a90-41f1-ac82-bde4cce32654",
   "metadata": {},
   "outputs": [
    {
     "data": {
      "text/html": [
       "<div class=\"krn-spql\"><table><tr class=hdr><th>gender</th>\n",
       "<th>genderLabel</th>\n",
       "<th>count</th></tr><tr class=odd><td class=val><a href=\"http://www.wikidata.org/entity/Q6581097\" target=\"_other\">http://www.wikidata.org/entity/Q6581097</a></td>\n",
       "<td class=val>male</td>\n",
       "<td class=val>20</td></tr><tr class=even><td class=val><a href=\"http://www.wikidata.org/entity/Q6581072\" target=\"_other\">http://www.wikidata.org/entity/Q6581072</a></td>\n",
       "<td class=val>female</td>\n",
       "<td class=val>9</td></tr></table><div class=\"tinfo\">Total: 2, Shown: 2</div></div>"
      ]
     },
     "metadata": {},
     "output_type": "display_data"
    }
   ],
   "source": [
    "SELECT ?gender ?genderLabel (COUNT(DISTINCT ?item) AS ?count) WHERE {\n",
    "  ?item wdt:P39 wd:Q12436652;\n",
    "    wdt:P21 ?gender.\n",
    "  SERVICE wikibase:label { bd:serviceParam wikibase:language \"[AUTO_LANGUAGE],en\". }\n",
    "}\n",
    "GROUP BY ?gender ?genderLabel\n",
    "ORDER BY DESC (?count)"
   ]
  },
  {
   "cell_type": "markdown",
   "id": "3f6c08ec-9c10-48ac-8d4c-4963b36e1c88",
   "metadata": {},
   "source": [
    "List of people having hold a given position with gender\n",
    "\n",
    "    List of people having hold a given position with gender\n",
    "\n"
   ]
  },
  {
   "cell_type": "code",
   "execution_count": 4,
   "id": "8448e1cc-6031-446e-8c22-af53dc2a68bf",
   "metadata": {},
   "outputs": [
    {
     "data": {
      "text/html": [
       "<div class=\"krn-spql\"><table><tr class=hdr><th>item</th>\n",
       "<th>itemLabel</th>\n",
       "<th>gender</th>\n",
       "<th>genderLabel</th>\n",
       "<th>start</th>\n",
       "<th>end</th></tr><tr class=odd><td class=val><a href=\"http://www.wikidata.org/entity/Q27182\" target=\"_other\">http://www.wikidata.org/entity/Q27182</a></td>\n",
       "<td class=val>Rachida Dati</td>\n",
       "<td class=val><a href=\"http://www.wikidata.org/entity/Q6581072\" target=\"_other\">http://www.wikidata.org/entity/Q6581072</a></td>\n",
       "<td class=val>female</td>\n",
       "<td class=val>2024-01-11T00:00:00Z</td>\n",
       "<td class=val></td></tr><tr class=even><td class=val><a href=\"http://www.wikidata.org/entity/Q112079659\" target=\"_other\">http://www.wikidata.org/entity/Q112079659</a></td>\n",
       "<td class=val>Rima Abdul Malak</td>\n",
       "<td class=val><a href=\"http://www.wikidata.org/entity/Q6581072\" target=\"_other\">http://www.wikidata.org/entity/Q6581072</a></td>\n",
       "<td class=val>female</td>\n",
       "<td class=val>2022-05-20T00:00:00Z</td>\n",
       "<td class=val>2024-01-11T00:00:00Z</td></tr><tr class=odd><td class=val><a href=\"http://www.wikidata.org/entity/Q436173\" target=\"_other\">http://www.wikidata.org/entity/Q436173</a></td>\n",
       "<td class=val>Roselyne Bachelot</td>\n",
       "<td class=val><a href=\"http://www.wikidata.org/entity/Q6581072\" target=\"_other\">http://www.wikidata.org/entity/Q6581072</a></td>\n",
       "<td class=val>female</td>\n",
       "<td class=val>2020-07-06T00:00:00Z</td>\n",
       "<td class=val>2022-05-20T00:00:00Z</td></tr><tr class=even><td class=val><a href=\"http://www.wikidata.org/entity/Q64463\" target=\"_other\">http://www.wikidata.org/entity/Q64463</a></td>\n",
       "<td class=val>Franck Riester</td>\n",
       "<td class=val><a href=\"http://www.wikidata.org/entity/Q6581097\" target=\"_other\">http://www.wikidata.org/entity/Q6581097</a></td>\n",
       "<td class=val>male</td>\n",
       "<td class=val>2018-10-16T00:00:00Z</td>\n",
       "<td class=val>2020-07-03T00:00:00Z</td></tr><tr class=odd><td class=val><a href=\"http://www.wikidata.org/entity/Q29962565\" target=\"_other\">http://www.wikidata.org/entity/Q29962565</a></td>\n",
       "<td class=val>Françoise Nyssen</td>\n",
       "<td class=val><a href=\"http://www.wikidata.org/entity/Q6581072\" target=\"_other\">http://www.wikidata.org/entity/Q6581072</a></td>\n",
       "<td class=val>female</td>\n",
       "<td class=val>2017-06-21T00:00:00Z</td>\n",
       "<td class=val>2018-10-16T00:00:00Z</td></tr><tr class=even><td class=val><a href=\"http://www.wikidata.org/entity/Q29962565\" target=\"_other\">http://www.wikidata.org/entity/Q29962565</a></td>\n",
       "<td class=val>Françoise Nyssen</td>\n",
       "<td class=val><a href=\"http://www.wikidata.org/entity/Q6581072\" target=\"_other\">http://www.wikidata.org/entity/Q6581072</a></td>\n",
       "<td class=val>female</td>\n",
       "<td class=val>2017-05-17T00:00:00Z</td>\n",
       "<td class=val>2017-06-21T00:00:00Z</td></tr><tr class=odd><td class=val><a href=\"http://www.wikidata.org/entity/Q22683089\" target=\"_other\">http://www.wikidata.org/entity/Q22683089</a></td>\n",
       "<td class=val>Audrey Azoulay</td>\n",
       "<td class=val><a href=\"http://www.wikidata.org/entity/Q6581072\" target=\"_other\">http://www.wikidata.org/entity/Q6581072</a></td>\n",
       "<td class=val>female</td>\n",
       "<td class=val>2016-12-06T00:00:00Z</td>\n",
       "<td class=val>2017-05-10T00:00:00Z</td></tr><tr class=even><td class=val><a href=\"http://www.wikidata.org/entity/Q22683089\" target=\"_other\">http://www.wikidata.org/entity/Q22683089</a></td>\n",
       "<td class=val>Audrey Azoulay</td>\n",
       "<td class=val><a href=\"http://www.wikidata.org/entity/Q6581072\" target=\"_other\">http://www.wikidata.org/entity/Q6581072</a></td>\n",
       "<td class=val>female</td>\n",
       "<td class=val>2016-02-11T00:00:00Z</td>\n",
       "<td class=val>2016-12-06T00:00:00Z</td></tr><tr class=odd><td class=val><a href=\"http://www.wikidata.org/entity/Q268660\" target=\"_other\">http://www.wikidata.org/entity/Q268660</a></td>\n",
       "<td class=val>Fleur Pellerin</td>\n",
       "<td class=val><a href=\"http://www.wikidata.org/entity/Q6581072\" target=\"_other\">http://www.wikidata.org/entity/Q6581072</a></td>\n",
       "<td class=val>female</td>\n",
       "<td class=val>2014-08-26T00:00:00Z</td>\n",
       "<td class=val>2016-02-11T00:00:00Z</td></tr><tr class=even><td class=val><a href=\"http://www.wikidata.org/entity/Q198005\" target=\"_other\">http://www.wikidata.org/entity/Q198005</a></td>\n",
       "<td class=val>Aurélie Filippetti</td>\n",
       "<td class=val><a href=\"http://www.wikidata.org/entity/Q6581072\" target=\"_other\">http://www.wikidata.org/entity/Q6581072</a></td>\n",
       "<td class=val>female</td>\n",
       "<td class=val>2014-04-02T00:00:00Z</td>\n",
       "<td class=val>2014-08-25T00:00:00Z</td></tr></table><div class=\"tinfo\">Total: 53, Shown: 10</div></div>"
      ]
     },
     "metadata": {},
     "output_type": "display_data"
    }
   ],
   "source": [
    "SELECT DISTINCT ?item ?itemLabel ?gender ?genderLabel ?start ?end WHERE {\n",
    "  ?item p:P39 ?statement.\n",
    "  ?statement ps:P39 wd:Q12436652.\n",
    "  OPTIONAL { ?statement pq:P580 ?start. }\n",
    "  OPTIONAL { ?statement pq:P582 ?end. }\n",
    "  ?item wdt:P21 ?gender.\n",
    "  SERVICE wikibase:label { bd:serviceParam wikibase:language \"[AUTO_LANGUAGE],en\". }\n",
    "}\n",
    "ORDER BY DESC(?start)"
   ]
  },
  {
   "cell_type": "markdown",
   "id": "85b649dd-bde4-4e75-975d-9d7acd38450b",
   "metadata": {},
   "source": [
    "Number of people having hold a given position by country of citizenship"
   ]
  },
  {
   "cell_type": "code",
   "execution_count": 5,
   "id": "013ef974-9ebb-4387-ad75-bc23c5523051",
   "metadata": {},
   "outputs": [
    {
     "data": {
      "text/html": [
       "<div class=\"krn-spql\"><table><tr class=hdr><th>country</th>\n",
       "<th>countryLabel</th>\n",
       "<th>count</th></tr><tr class=odd><td class=val><a href=\"http://www.wikidata.org/entity/Q142\" target=\"_other\">http://www.wikidata.org/entity/Q142</a></td>\n",
       "<td class=val>France</td>\n",
       "<td class=val>29</td></tr><tr class=even><td class=val><a href=\"http://www.wikidata.org/entity/Q262\" target=\"_other\">http://www.wikidata.org/entity/Q262</a></td>\n",
       "<td class=val>Algeria</td>\n",
       "<td class=val>1</td></tr><tr class=odd><td class=val><a href=\"http://www.wikidata.org/entity/Q1028\" target=\"_other\">http://www.wikidata.org/entity/Q1028</a></td>\n",
       "<td class=val>Morocco</td>\n",
       "<td class=val>1</td></tr><tr class=even><td class=val><a href=\"http://www.wikidata.org/entity/Q948\" target=\"_other\">http://www.wikidata.org/entity/Q948</a></td>\n",
       "<td class=val>Tunisia</td>\n",
       "<td class=val>1</td></tr><tr class=odd><td class=val><a href=\"http://www.wikidata.org/entity/Q36\" target=\"_other\">http://www.wikidata.org/entity/Q36</a></td>\n",
       "<td class=val>Poland</td>\n",
       "<td class=val>1</td></tr><tr class=even><td class=val><a href=\"http://www.wikidata.org/entity/Q31\" target=\"_other\">http://www.wikidata.org/entity/Q31</a></td>\n",
       "<td class=val>Belgium</td>\n",
       "<td class=val>1</td></tr><tr class=odd><td class=val><a href=\"http://www.wikidata.org/entity/Q822\" target=\"_other\">http://www.wikidata.org/entity/Q822</a></td>\n",
       "<td class=val>Lebanon</td>\n",
       "<td class=val>1</td></tr></table><div class=\"tinfo\">Total: 7, Shown: 7</div></div>"
      ]
     },
     "metadata": {},
     "output_type": "display_data"
    }
   ],
   "source": [
    "SELECT ?country ?countryLabel (COUNT(DISTINCT ?item) AS ?count) WHERE {\n",
    "  ?item wdt:P39 wd:Q12436652;\n",
    "    wdt:P27 ?country.\n",
    "  SERVICE wikibase:label { bd:serviceParam wikibase:language \"[AUTO_LANGUAGE],en\". }\n",
    "}\n",
    "GROUP BY ?country ?countryLabel\n",
    "ORDER BY DESC (?count)"
   ]
  },
  {
   "cell_type": "markdown",
   "id": "640b9b2d-efeb-4f5e-96f5-1c50cc3399ed",
   "metadata": {},
   "source": [
    "List of people having hold a given position with country of citizenship"
   ]
  },
  {
   "cell_type": "code",
   "execution_count": 6,
   "id": "abbca268-c79f-4650-a382-ba163a48aec9",
   "metadata": {},
   "outputs": [
    {
     "data": {
      "text/html": [
       "<div class=\"krn-spql\"><table><tr class=hdr><th>item</th>\n",
       "<th>itemLabel</th>\n",
       "<th>country</th>\n",
       "<th>countryLabel</th>\n",
       "<th>start</th></tr><tr class=odd><td class=val><a href=\"http://www.wikidata.org/entity/Q27182\" target=\"_other\">http://www.wikidata.org/entity/Q27182</a></td>\n",
       "<td class=val>Rachida Dati</td>\n",
       "<td class=val><a href=\"http://www.wikidata.org/entity/Q142\" target=\"_other\">http://www.wikidata.org/entity/Q142</a></td>\n",
       "<td class=val>France</td>\n",
       "<td class=val>2024-01-11T00:00:00Z</td></tr><tr class=even><td class=val><a href=\"http://www.wikidata.org/entity/Q27182\" target=\"_other\">http://www.wikidata.org/entity/Q27182</a></td>\n",
       "<td class=val>Rachida Dati</td>\n",
       "<td class=val><a href=\"http://www.wikidata.org/entity/Q262\" target=\"_other\">http://www.wikidata.org/entity/Q262</a></td>\n",
       "<td class=val>Algeria</td>\n",
       "<td class=val>2024-01-11T00:00:00Z</td></tr><tr class=odd><td class=val><a href=\"http://www.wikidata.org/entity/Q27182\" target=\"_other\">http://www.wikidata.org/entity/Q27182</a></td>\n",
       "<td class=val>Rachida Dati</td>\n",
       "<td class=val><a href=\"http://www.wikidata.org/entity/Q1028\" target=\"_other\">http://www.wikidata.org/entity/Q1028</a></td>\n",
       "<td class=val>Morocco</td>\n",
       "<td class=val>2024-01-11T00:00:00Z</td></tr><tr class=even><td class=val><a href=\"http://www.wikidata.org/entity/Q112079659\" target=\"_other\">http://www.wikidata.org/entity/Q112079659</a></td>\n",
       "<td class=val>Rima Abdul Malak</td>\n",
       "<td class=val><a href=\"http://www.wikidata.org/entity/Q142\" target=\"_other\">http://www.wikidata.org/entity/Q142</a></td>\n",
       "<td class=val>France</td>\n",
       "<td class=val>2022-05-20T00:00:00Z</td></tr><tr class=odd><td class=val><a href=\"http://www.wikidata.org/entity/Q112079659\" target=\"_other\">http://www.wikidata.org/entity/Q112079659</a></td>\n",
       "<td class=val>Rima Abdul Malak</td>\n",
       "<td class=val><a href=\"http://www.wikidata.org/entity/Q822\" target=\"_other\">http://www.wikidata.org/entity/Q822</a></td>\n",
       "<td class=val>Lebanon</td>\n",
       "<td class=val>2022-05-20T00:00:00Z</td></tr><tr class=even><td class=val><a href=\"http://www.wikidata.org/entity/Q436173\" target=\"_other\">http://www.wikidata.org/entity/Q436173</a></td>\n",
       "<td class=val>Roselyne Bachelot</td>\n",
       "<td class=val><a href=\"http://www.wikidata.org/entity/Q142\" target=\"_other\">http://www.wikidata.org/entity/Q142</a></td>\n",
       "<td class=val>France</td>\n",
       "<td class=val>2020-07-06T00:00:00Z</td></tr><tr class=odd><td class=val><a href=\"http://www.wikidata.org/entity/Q64463\" target=\"_other\">http://www.wikidata.org/entity/Q64463</a></td>\n",
       "<td class=val>Franck Riester</td>\n",
       "<td class=val><a href=\"http://www.wikidata.org/entity/Q142\" target=\"_other\">http://www.wikidata.org/entity/Q142</a></td>\n",
       "<td class=val>France</td>\n",
       "<td class=val>2018-10-16T00:00:00Z</td></tr><tr class=even><td class=val><a href=\"http://www.wikidata.org/entity/Q29962565\" target=\"_other\">http://www.wikidata.org/entity/Q29962565</a></td>\n",
       "<td class=val>Françoise Nyssen</td>\n",
       "<td class=val><a href=\"http://www.wikidata.org/entity/Q31\" target=\"_other\">http://www.wikidata.org/entity/Q31</a></td>\n",
       "<td class=val>Belgium</td>\n",
       "<td class=val>2017-06-21T00:00:00Z</td></tr><tr class=odd><td class=val><a href=\"http://www.wikidata.org/entity/Q29962565\" target=\"_other\">http://www.wikidata.org/entity/Q29962565</a></td>\n",
       "<td class=val>Françoise Nyssen</td>\n",
       "<td class=val><a href=\"http://www.wikidata.org/entity/Q142\" target=\"_other\">http://www.wikidata.org/entity/Q142</a></td>\n",
       "<td class=val>France</td>\n",
       "<td class=val>2017-06-21T00:00:00Z</td></tr><tr class=even><td class=val><a href=\"http://www.wikidata.org/entity/Q29962565\" target=\"_other\">http://www.wikidata.org/entity/Q29962565</a></td>\n",
       "<td class=val>Françoise Nyssen</td>\n",
       "<td class=val><a href=\"http://www.wikidata.org/entity/Q31\" target=\"_other\">http://www.wikidata.org/entity/Q31</a></td>\n",
       "<td class=val>Belgium</td>\n",
       "<td class=val>2017-05-17T00:00:00Z</td></tr></table><div class=\"tinfo\">Total: 61, Shown: 10</div></div>"
      ]
     },
     "metadata": {},
     "output_type": "display_data"
    }
   ],
   "source": [
    "SELECT DISTINCT ?item ?itemLabel ?country ?countryLabel  ?start WHERE {\n",
    "  ?item p:P39 ?statement.\n",
    "  ?statement ps:P39 wd:Q12436652.\n",
    "  OPTIONAL { ?statement pq:P580 ?start. }\n",
    "  OPTIONAL { ?statement pq:P582 ?end. }\n",
    "  ?item wdt:P27 ?country.\n",
    "  SERVICE wikibase:label { bd:serviceParam wikibase:language \"[AUTO_LANGUAGE],en\". }\n",
    "}\n",
    "ORDER BY DESC(?start)"
   ]
  },
  {
   "cell_type": "code",
   "execution_count": 7,
   "id": "00ba8f67-19b1-4934-8245-a68e6ff2c71f",
   "metadata": {},
   "outputs": [
    {
     "data": {
      "text/html": [
       "<div class=\"krn-spql\"><table><tr class=hdr><th>item</th>\n",
       "<th>itemLabel</th>\n",
       "<th>start</th>\n",
       "<th>end</th>\n",
       "<th>length</th></tr><tr class=odd><td class=val><a href=\"http://www.wikidata.org/entity/Q437405\" target=\"_other\">http://www.wikidata.org/entity/Q437405</a></td>\n",
       "<td class=val>Catherine Trautmann</td>\n",
       "<td class=val>1997-06-04T00:00:00Z</td>\n",
       "<td class=val>2002-05-06T00:00:00Z</td>\n",
       "<td class=val>1797.0</td></tr><tr class=even><td class=val><a href=\"http://www.wikidata.org/entity/Q151164\" target=\"_other\">http://www.wikidata.org/entity/Q151164</a></td>\n",
       "<td class=val>André Malraux</td>\n",
       "<td class=val>1962-12-07T00:00:00Z</td>\n",
       "<td class=val>1966-01-08T00:00:00Z</td>\n",
       "<td class=val>1128.0</td></tr><tr class=odd><td class=val><a href=\"http://www.wikidata.org/entity/Q1685157\" target=\"_other\">http://www.wikidata.org/entity/Q1685157</a></td>\n",
       "<td class=val>Jean-Philippe Lecat</td>\n",
       "<td class=val>1978-04-05T00:00:00Z</td>\n",
       "<td class=val>1981-03-04T00:00:00Z</td>\n",
       "<td class=val>1064.0</td></tr><tr class=even><td class=val><a href=\"http://www.wikidata.org/entity/Q379229\" target=\"_other\">http://www.wikidata.org/entity/Q379229</a></td>\n",
       "<td class=val>Jack Lang</td>\n",
       "<td class=val>1988-06-28T00:00:00Z</td>\n",
       "<td class=val>1991-05-15T00:00:00Z</td>\n",
       "<td class=val>1051.0</td></tr><tr class=odd><td class=val><a href=\"http://www.wikidata.org/entity/Q151164\" target=\"_other\">http://www.wikidata.org/entity/Q151164</a></td>\n",
       "<td class=val>André Malraux</td>\n",
       "<td class=val>1959-07-22T00:00:00Z</td>\n",
       "<td class=val>1962-04-14T00:00:00Z</td>\n",
       "<td class=val>997.0</td></tr><tr class=even><td class=val><a href=\"http://www.wikidata.org/entity/Q1394083\" target=\"_other\">http://www.wikidata.org/entity/Q1394083</a></td>\n",
       "<td class=val>François Léotard</td>\n",
       "<td class=val>1986-03-20T00:00:00Z</td>\n",
       "<td class=val>1988-05-10T00:00:00Z</td>\n",
       "<td class=val>782.0</td></tr><tr class=odd><td class=val><a href=\"http://www.wikidata.org/entity/Q1379752\" target=\"_other\">http://www.wikidata.org/entity/Q1379752</a></td>\n",
       "<td class=val>Jacques Toubon</td>\n",
       "<td class=val>1993-03-30T00:00:00Z</td>\n",
       "<td class=val>1995-05-17T00:00:00Z</td>\n",
       "<td class=val>778.0</td></tr><tr class=even><td class=val><a href=\"http://www.wikidata.org/entity/Q441626\" target=\"_other\">http://www.wikidata.org/entity/Q441626</a></td>\n",
       "<td class=val>Christine Albanel</td>\n",
       "<td class=val>2007-06-18T00:00:00Z</td>\n",
       "<td class=val>2009-06-23T00:00:00Z</td>\n",
       "<td class=val>736.0</td></tr><tr class=odd><td class=val><a href=\"http://www.wikidata.org/entity/Q707980\" target=\"_other\">http://www.wikidata.org/entity/Q707980</a></td>\n",
       "<td class=val>Renaud Donnedieu de Vabres</td>\n",
       "<td class=val>2005-06-02T00:00:00Z</td>\n",
       "<td class=val>2007-05-17T00:00:00Z</td>\n",
       "<td class=val>714.0</td></tr><tr class=even><td class=val><a href=\"http://www.wikidata.org/entity/Q436173\" target=\"_other\">http://www.wikidata.org/entity/Q436173</a></td>\n",
       "<td class=val>Roselyne Bachelot</td>\n",
       "<td class=val>2020-07-06T00:00:00Z</td>\n",
       "<td class=val>2022-05-20T00:00:00Z</td>\n",
       "<td class=val>683.0</td></tr></table><div class=\"tinfo\">Total: 51, Shown: 10</div></div>"
      ]
     },
     "metadata": {},
     "output_type": "display_data"
    }
   ],
   "source": [
    "SELECT ?item ?itemLabel ?start ?end ?length WHERE {\n",
    "  ?item p:P39 ?statement.\n",
    "  ?statement ps:P39 wd:Q12436652;\n",
    "    pq:P580 ?start.\n",
    "  OPTIONAL { ?statement pq:P582 ?end. }\n",
    "  BIND(COALESCE(?end, xsd:date(NOW())) - ?start AS ?length)\n",
    "  SERVICE wikibase:label { bd:serviceParam wikibase:language \"[AUTO_LANGUAGE],en\". }\n",
    "}\n",
    "ORDER BY DESC (?length)"
   ]
  },
  {
   "cell_type": "code",
   "execution_count": 8,
   "id": "6104125b-0dc9-433f-9559-a1ba5ab535fe",
   "metadata": {},
   "outputs": [
    {
     "data": {
      "text/html": [
       "<div class=\"krn-spql\"><table><tr class=hdr><th>item</th>\n",
       "<th>itemLabel</th>\n",
       "<th>duration</th></tr><tr class=odd><td class=val><a href=\"http://www.wikidata.org/entity/Q151164\" target=\"_other\">http://www.wikidata.org/entity/Q151164</a></td>\n",
       "<td class=val>André Malraux</td>\n",
       "<td class=val>3603.0</td></tr><tr class=even><td class=val><a href=\"http://www.wikidata.org/entity/Q379229\" target=\"_other\">http://www.wikidata.org/entity/Q379229</a></td>\n",
       "<td class=val>Jack Lang</td>\n",
       "<td class=val>3534.0</td></tr><tr class=odd><td class=val><a href=\"http://www.wikidata.org/entity/Q437405\" target=\"_other\">http://www.wikidata.org/entity/Q437405</a></td>\n",
       "<td class=val>Catherine Trautmann</td>\n",
       "<td class=val>1797.0</td></tr><tr class=even><td class=val><a href=\"http://www.wikidata.org/entity/Q707980\" target=\"_other\">http://www.wikidata.org/entity/Q707980</a></td>\n",
       "<td class=val>Renaud Donnedieu de Vabres</td>\n",
       "<td class=val>1140.0</td></tr><tr class=odd><td class=val><a href=\"http://www.wikidata.org/entity/Q1685157\" target=\"_other\">http://www.wikidata.org/entity/Q1685157</a></td>\n",
       "<td class=val>Jean-Philippe Lecat</td>\n",
       "<td class=val>1064.0</td></tr><tr class=even><td class=val><a href=\"http://www.wikidata.org/entity/Q257752\" target=\"_other\">http://www.wikidata.org/entity/Q257752</a></td>\n",
       "<td class=val>Frédéric Mitterrand</td>\n",
       "<td class=val>1058.0</td></tr><tr class=odd><td class=val><a href=\"http://www.wikidata.org/entity/Q198005\" target=\"_other\">http://www.wikidata.org/entity/Q198005</a></td>\n",
       "<td class=val>Aurélie Filippetti</td>\n",
       "<td class=val>829.0</td></tr><tr class=even><td class=val><a href=\"http://www.wikidata.org/entity/Q3158801\" target=\"_other\">http://www.wikidata.org/entity/Q3158801</a></td>\n",
       "<td class=val>Jacques Duhamel</td>\n",
       "<td class=val>810.0</td></tr><tr class=odd><td class=val><a href=\"http://www.wikidata.org/entity/Q1394083\" target=\"_other\">http://www.wikidata.org/entity/Q1394083</a></td>\n",
       "<td class=val>François Léotard</td>\n",
       "<td class=val>782.0</td></tr><tr class=even><td class=val><a href=\"http://www.wikidata.org/entity/Q1379752\" target=\"_other\">http://www.wikidata.org/entity/Q1379752</a></td>\n",
       "<td class=val>Jacques Toubon</td>\n",
       "<td class=val>778.0</td></tr></table><div class=\"tinfo\">Total: 27, Shown: 10</div></div>"
      ]
     },
     "metadata": {},
     "output_type": "display_data"
    }
   ],
   "source": [
    "SELECT ?item ?itemLabel (SUM(?length) AS ?duration) WHERE {\n",
    "  ?item p:P39 ?statement.\n",
    "  ?statement ps:P39 wd:Q12436652;\n",
    "    pq:P580 ?start.\n",
    "  OPTIONAL { ?statement pq:P582 ?end. }\n",
    "  BIND(COALESCE(?end, xsd:date(NOW())) - ?start AS ?length)\n",
    "  SERVICE wikibase:label { bd:serviceParam wikibase:language \"[AUTO_LANGUAGE],en\". }\n",
    "}\n",
    "GROUP BY ?item ?itemLabel\n",
    "ORDER BY DESC (?duration)"
   ]
  },
  {
   "cell_type": "code",
   "execution_count": 9,
   "id": "03f31f36-c055-48dd-b271-f54e40da6fe9",
   "metadata": {},
   "outputs": [
    {
     "data": {
      "text/html": [
       "<div class=\"krn-spql\"><table><tr class=hdr><th>item</th>\n",
       "<th>itemLabel</th>\n",
       "<th>employer</th>\n",
       "<th>employerLabel</th>\n",
       "<th>start</th>\n",
       "<th>end</th></tr><tr class=odd><td class=val><a href=\"http://www.wikidata.org/entity/Q131911279\" target=\"_other\">http://www.wikidata.org/entity/Q131911279</a></td>\n",
       "<td class=val>Belén Martínez Carbonell</td>\n",
       "<td class=val><a href=\"http://www.wikidata.org/entity/Q672941\" target=\"_other\">http://www.wikidata.org/entity/Q672941</a></td>\n",
       "<td class=val>European External Action Service</td>\n",
       "<td class=val>2025-03-01T00:00:00Z</td>\n",
       "<td class=val></td></tr><tr class=even><td class=val><a href=\"http://www.wikidata.org/entity/Q16217237\" target=\"_other\">http://www.wikidata.org/entity/Q16217237</a></td>\n",
       "<td class=val>Daniel Constantin</td>\n",
       "<td class=val></td>\n",
       "<td class=val></td>\n",
       "<td class=val>2025-01-17T00:00:00Z</td>\n",
       "<td class=val></td></tr><tr class=odd><td class=val><a href=\"http://www.wikidata.org/entity/Q131644214\" target=\"_other\">http://www.wikidata.org/entity/Q131644214</a></td>\n",
       "<td class=val>Mihnea-Claudiu Drumea</td>\n",
       "<td class=val></td>\n",
       "<td class=val></td>\n",
       "<td class=val>2024-12-24T00:00:00Z</td>\n",
       "<td class=val>2025-01-17T00:00:00Z</td></tr><tr class=even><td class=val><a href=\"http://www.wikidata.org/entity/Q107641693\" target=\"_other\">http://www.wikidata.org/entity/Q107641693</a></td>\n",
       "<td class=val>Richar Vaquero</td>\n",
       "<td class=val></td>\n",
       "<td class=val></td>\n",
       "<td class=val>2024-12-14T00:00:00Z</td>\n",
       "<td class=val></td></tr><tr class=odd><td class=val><a href=\"http://www.wikidata.org/entity/Q131574424\" target=\"_other\">http://www.wikidata.org/entity/Q131574424</a></td>\n",
       "<td class=val>Q131574424</td>\n",
       "<td class=val></td>\n",
       "<td class=val></td>\n",
       "<td class=val>2024-12-14T00:00:00Z</td>\n",
       "<td class=val></td></tr><tr class=even><td class=val><a href=\"http://www.wikidata.org/entity/Q42963597\" target=\"_other\">http://www.wikidata.org/entity/Q42963597</a></td>\n",
       "<td class=val>Elisenda Alamany</td>\n",
       "<td class=val></td>\n",
       "<td class=val></td>\n",
       "<td class=val>2024-12-14T00:00:00Z</td>\n",
       "<td class=val></td></tr><tr class=odd><td class=val><a href=\"http://www.wikidata.org/entity/Q6504758\" target=\"_other\">http://www.wikidata.org/entity/Q6504758</a></td>\n",
       "<td class=val>Lawrence Wong</td>\n",
       "<td class=val></td>\n",
       "<td class=val></td>\n",
       "<td class=val>2024-12-04T00:00:00Z</td>\n",
       "<td class=val></td></tr><tr class=even><td class=val><a href=\"http://www.wikidata.org/entity/Q1893672\" target=\"_other\">http://www.wikidata.org/entity/Q1893672</a></td>\n",
       "<td class=val>Marco Buschmann</td>\n",
       "<td class=val></td>\n",
       "<td class=val></td>\n",
       "<td class=val>2024-12-01T00:00:00Z</td>\n",
       "<td class=val></td></tr><tr class=odd><td class=val><a href=\"http://www.wikidata.org/entity/Q122205481\" target=\"_other\">http://www.wikidata.org/entity/Q122205481</a></td>\n",
       "<td class=val>Alba García Martín</td>\n",
       "<td class=val></td>\n",
       "<td class=val></td>\n",
       "<td class=val>2024-11-30T00:00:00Z</td>\n",
       "<td class=val></td></tr><tr class=even><td class=val><a href=\"http://www.wikidata.org/entity/Q714435\" target=\"_other\">http://www.wikidata.org/entity/Q714435</a></td>\n",
       "<td class=val>Naim Qassem</td>\n",
       "<td class=val></td>\n",
       "<td class=val></td>\n",
       "<td class=val>2024-10-29T00:00:00Z</td>\n",
       "<td class=val></td></tr></table><div class=\"tinfo\">Total: 6422, Shown: 10</div></div>"
      ]
     },
     "metadata": {},
     "output_type": "display_data"
    }
   ],
   "source": [
    "SELECT DISTINCT ?item ?itemLabel ?employer ?employerLabel ?start ?end WHERE {\n",
    "  ?item p:P39 ?statement.\n",
    "  ?statement (ps:P39/(wdt:P279*)) wd:Q6501749.\n",
    "  OPTIONAL { ?statement pq:P580 ?start. }\n",
    "  OPTIONAL { ?statement pq:P582 ?end. }\n",
    "  OPTIONAL { ?statement pq:P108 ?employer. }\n",
    "  SERVICE wikibase:label { bd:serviceParam wikibase:language \"[AUTO_LANGUAGE],en\". }\n",
    "}\n",
    "ORDER BY DESC (?start)"
   ]
  },
  {
   "cell_type": "code",
   "execution_count": 10,
   "id": "ad90d09f-87a2-4bca-b84b-ec2d727af9b2",
   "metadata": {},
   "outputs": [
    {
     "data": {
      "text/html": [
       "<div class=\"krn-spql\"><table><tr class=hdr><th>item</th>\n",
       "<th>itemLabel</th>\n",
       "<th>employer</th>\n",
       "<th>employerLabel</th>\n",
       "<th>start</th>\n",
       "<th>end</th></tr><tr class=odd><td class=val><a href=\"http://www.wikidata.org/entity/Q131911279\" target=\"_other\">http://www.wikidata.org/entity/Q131911279</a></td>\n",
       "<td class=val>Belén Martínez Carbonell</td>\n",
       "<td class=val><a href=\"http://www.wikidata.org/entity/Q672941\" target=\"_other\">http://www.wikidata.org/entity/Q672941</a></td>\n",
       "<td class=val>European External Action Service</td>\n",
       "<td class=val>2025-03-01T00:00:00Z</td>\n",
       "<td class=val></td></tr><tr class=even><td class=val><a href=\"http://www.wikidata.org/entity/Q16217237\" target=\"_other\">http://www.wikidata.org/entity/Q16217237</a></td>\n",
       "<td class=val>Daniel Constantin</td>\n",
       "<td class=val></td>\n",
       "<td class=val></td>\n",
       "<td class=val>2025-01-17T00:00:00Z</td>\n",
       "<td class=val></td></tr><tr class=odd><td class=val><a href=\"http://www.wikidata.org/entity/Q131644214\" target=\"_other\">http://www.wikidata.org/entity/Q131644214</a></td>\n",
       "<td class=val>Mihnea-Claudiu Drumea</td>\n",
       "<td class=val></td>\n",
       "<td class=val></td>\n",
       "<td class=val>2024-12-24T00:00:00Z</td>\n",
       "<td class=val>2025-01-17T00:00:00Z</td></tr><tr class=even><td class=val><a href=\"http://www.wikidata.org/entity/Q107641693\" target=\"_other\">http://www.wikidata.org/entity/Q107641693</a></td>\n",
       "<td class=val>Richar Vaquero</td>\n",
       "<td class=val></td>\n",
       "<td class=val></td>\n",
       "<td class=val>2024-12-14T00:00:00Z</td>\n",
       "<td class=val></td></tr><tr class=odd><td class=val><a href=\"http://www.wikidata.org/entity/Q131574424\" target=\"_other\">http://www.wikidata.org/entity/Q131574424</a></td>\n",
       "<td class=val>Q131574424</td>\n",
       "<td class=val></td>\n",
       "<td class=val></td>\n",
       "<td class=val>2024-12-14T00:00:00Z</td>\n",
       "<td class=val></td></tr><tr class=even><td class=val><a href=\"http://www.wikidata.org/entity/Q42963597\" target=\"_other\">http://www.wikidata.org/entity/Q42963597</a></td>\n",
       "<td class=val>Elisenda Alamany</td>\n",
       "<td class=val></td>\n",
       "<td class=val></td>\n",
       "<td class=val>2024-12-14T00:00:00Z</td>\n",
       "<td class=val></td></tr><tr class=odd><td class=val><a href=\"http://www.wikidata.org/entity/Q6504758\" target=\"_other\">http://www.wikidata.org/entity/Q6504758</a></td>\n",
       "<td class=val>Lawrence Wong</td>\n",
       "<td class=val></td>\n",
       "<td class=val></td>\n",
       "<td class=val>2024-12-04T00:00:00Z</td>\n",
       "<td class=val></td></tr><tr class=even><td class=val><a href=\"http://www.wikidata.org/entity/Q1893672\" target=\"_other\">http://www.wikidata.org/entity/Q1893672</a></td>\n",
       "<td class=val>Marco Buschmann</td>\n",
       "<td class=val></td>\n",
       "<td class=val></td>\n",
       "<td class=val>2024-12-01T00:00:00Z</td>\n",
       "<td class=val></td></tr><tr class=odd><td class=val><a href=\"http://www.wikidata.org/entity/Q122205481\" target=\"_other\">http://www.wikidata.org/entity/Q122205481</a></td>\n",
       "<td class=val>Alba García Martín</td>\n",
       "<td class=val></td>\n",
       "<td class=val></td>\n",
       "<td class=val>2024-11-30T00:00:00Z</td>\n",
       "<td class=val></td></tr><tr class=even><td class=val><a href=\"http://www.wikidata.org/entity/Q714435\" target=\"_other\">http://www.wikidata.org/entity/Q714435</a></td>\n",
       "<td class=val>Naim Qassem</td>\n",
       "<td class=val></td>\n",
       "<td class=val></td>\n",
       "<td class=val>2024-10-29T00:00:00Z</td>\n",
       "<td class=val></td></tr></table><div class=\"tinfo\">Total: 6422, Shown: 10</div></div>"
      ]
     },
     "metadata": {},
     "output_type": "display_data"
    }
   ],
   "source": [
    "SELECT DISTINCT ?item ?itemLabel ?employer ?employerLabel ?start ?end WHERE {\n",
    "  ?item p:P39 ?statement.\n",
    "  ?statement (ps:P39/(wdt:P279*)) wd:Q6501749.\n",
    "  OPTIONAL { ?statement pq:P580 ?start. }\n",
    "  OPTIONAL { ?statement pq:P582 ?end. }\n",
    "  OPTIONAL { ?statement pq:P108 ?employer. }\n",
    "  SERVICE wikibase:label { bd:serviceParam wikibase:language \"[AUTO_LANGUAGE],en\". }\n",
    "}\n",
    "ORDER BY DESC (?start)"
   ]
  },
  {
   "cell_type": "code",
   "execution_count": null,
   "id": "1f4a7bab-804c-46f4-aa1d-9d3e4ee71050",
   "metadata": {},
   "outputs": [],
   "source": []
  }
 ],
 "metadata": {
  "kernelspec": {
   "display_name": "SPARQL",
   "language": "sparql",
   "name": "sparql"
  },
  "language_info": {
   "codemirror_mode": {
    "name": "sparql"
   },
   "mimetype": "application/sparql-query",
   "name": "sparql",
   "pygments_lexer": "sparql-nb"
  }
 },
 "nbformat": 4,
 "nbformat_minor": 5
}
